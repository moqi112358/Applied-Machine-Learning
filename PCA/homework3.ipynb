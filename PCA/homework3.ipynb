{
 "cells": [
  {
   "cell_type": "markdown",
   "metadata": {},
   "source": [
    "## CS498 Applied Machine Learning Homework3"
   ]
  },
  {
   "cell_type": "markdown",
   "metadata": {},
   "source": [
    "Huamin Zhang   &&   Rongzi Wang\n",
    "\n",
    "Monday, Feburary 20, 2017"
   ]
  },
  {
   "cell_type": "markdown",
   "metadata": {},
   "source": [
    "### 4.10\n",
    "CIFAR-10 is a dataset of 32x32 images in 10 categories, collected by Alex Krizhevsky, Vinod Nair, and Geoffrey Hinton. It is often used to evaluate machine learning algorithms. You can download this dataset from https://www.cs.toronto.edu/∼kriz/cifar.html."
   ]
  },
  {
   "cell_type": "markdown",
   "metadata": {},
   "source": [
    "#### (a)\n",
    "For each category, compute the mean image and the first 20 principal components. Plot the error resulting from representing the images of each \n",
    "category using the first 20 principal components against the category."
   ]
  },
  {
   "cell_type": "markdown",
   "metadata": {},
   "source": [
    "#### Answer:"
   ]
  },
  {
   "cell_type": "code",
   "execution_count": 42,
   "metadata": {
    "collapsed": true
   },
   "outputs": [],
   "source": [
    "from sklearn.decomposition import PCA\n",
    "import pickle\n",
    "import numpy as np"
   ]
  },
  {
   "cell_type": "code",
   "execution_count": 43,
   "metadata": {
    "collapsed": true
   },
   "outputs": [],
   "source": [
    "# read data of all training data\n",
    "wd = \"C:\\\\Users\\\\98302\\\\Desktop\\\\cifar-10-batches-py\\\\data_batch_\"\n",
    "batch_file = [\"1\",\"2\", \"3\", \"4\", \"5\"]\n",
    "data = []\n",
    "label = []\n",
    "for file in batch_file:\n",
    "    input_file = wd + file\n",
    "    fo = open(input_file, 'rb')\n",
    "    dict = pickle.load(fo)\n",
    "    fo.close()\n",
    "    data.append(dict['data'])\n",
    "    label.append(dict['labels'])"
   ]
  },
  {
   "cell_type": "code",
   "execution_count": 44,
   "metadata": {
    "collapsed": false
   },
   "outputs": [
    {
     "data": {
      "text/plain": [
       "[1553.1468061927148,\n",
       " 1955.6171211491858,\n",
       " 1497.7538890545302,\n",
       " 1714.0326230068724,\n",
       " 1422.0067365299374,\n",
       " 1749.0802507229187,\n",
       " 1576.0713019648254,\n",
       " 1811.8561263737488,\n",
       " 1501.8965456651561,\n",
       " 1972.6247988325288]"
      ]
     },
     "execution_count": 44,
     "metadata": {},
     "output_type": "execute_result"
    }
   ],
   "source": [
    "#############4.10(a)##################################################\n",
    "class_data=[]\n",
    "class_pca=[]\n",
    "class_mean_image=[]\n",
    "error = []\n",
    "for i in range(0,10):\n",
    "    x=[]\n",
    "    y=[]\n",
    "    x=np.array(x,dtype = np.uint8)\n",
    "    new_dict = {'data':x,'labels':y}\n",
    "    \n",
    "    #classfier\n",
    "    for j in range(0,5):\n",
    "        for k in range(0,10000):\n",
    "            if label[j][k] == i:\n",
    "                new_dict['labels'].append(label[j][k])\n",
    "                new_dict['data'] = np.concatenate((new_dict['data'],data[j][k]))\n",
    "    new_dict['data'] = new_dict['data'].reshape(new_dict['data'].shape[0]/3072,3072)\n",
    "    class_data.append(new_dict)\n",
    "    \n",
    "    #do pca\n",
    "    pca = PCA(copy=True,n_components=20) #pca para\n",
    "    new_data = pca.fit_transform(class_data[i]['data']) #transform 10000*3072 to 10000*20\n",
    "    #mean image\n",
    "    class_mean_image.append(pca.mean_) \n",
    "    class_pca.append(new_data)\n",
    "    \n",
    "    #Constructing a low-dimensional representation\n",
    "    represent_data = pca.inverse_transform(new_data)\n",
    "\n",
    "    #calculate error\n",
    "    total_dis = 0\n",
    "    for image in range(5000):\n",
    "        dist = np.sqrt(np.sum(np.square(represent_data[image] - class_data[i]['data'][image])))\n",
    "        total_dis = total_dis + dist\n",
    "\n",
    "    ave_err = total_dis/5000\n",
    "    error.append(ave_err)\n",
    "error"
   ]
  },
  {
   "cell_type": "markdown",
   "metadata": {},
   "source": [
    "So the error resulting from representing the images of each category using the first 20 principal components against the category is (1553.15382446685, 1955.6179886516406,1497.7200032304538,1714.0308064609096, 1422.0085695761902,1749.0835367137101, 1576.0729220159319,1811.8635062055494, 1501.9083558302561,1972.6160816894055). The barplot of the error is showed as following."
   ]
  },
  {
   "cell_type": "markdown",
   "metadata": {},
   "source": [
    "![](barplot.png)"
   ]
  },
  {
   "cell_type": "markdown",
   "metadata": {},
   "source": [
    "#### (b)\n",
    "Compute the distances between mean images for each pair of classes. Use principal coordinate analysis to make a 2D map of the means of each\n",
    "categories. For this exercise, compute distances by thinking of the images as vectors."
   ]
  },
  {
   "cell_type": "markdown",
   "metadata": {},
   "source": [
    "#### Answer:"
   ]
  },
  {
   "cell_type": "code",
   "execution_count": 45,
   "metadata": {
    "collapsed": false
   },
   "outputs": [
    {
     "data": {
      "text/plain": [
       "array([  6.11872731e+06,   1.43736291e+06,   5.23337909e+05,\n",
       "         1.50913516e+05,   1.39065005e+05,  -3.15542556e-10,\n",
       "         1.22613194e+04,   4.19451647e+04,   2.88933057e+04,\n",
       "         3.18558605e+04])"
      ]
     },
     "execution_count": 45,
     "metadata": {},
     "output_type": "execute_result"
    }
   ],
   "source": [
    "#############4.10(b)##################################################\n",
    "\n",
    "#create distance matrix\n",
    "D = []\n",
    "for i in range(10):\n",
    "    for j in range(10):\n",
    "        dist = np.sum(np.square(class_mean_image[i] - class_mean_image[j]))\n",
    "        D.append(dist)\n",
    "D = np.array(D).reshape(10,10)\n",
    "#Form A,W and get the eigenvectors andeigenvalues of W\n",
    "I = np.identity(10)\n",
    "A = I - 0.1 * np.array([1]*100).reshape(10,10)\n",
    "W = -0.5 * np.dot(np.dot(A,D),np.transpose(A))\n",
    "eigval, eigvec = np.linalg.eig(W)\n",
    "eigval"
   ]
  },
  {
   "cell_type": "code",
   "execution_count": 46,
   "metadata": {
    "collapsed": false
   },
   "outputs": [
    {
     "data": {
      "text/plain": [
       "array([[ 1240.98660652,  -642.90599027],\n",
       "       [  124.59424171,   502.18646509],\n",
       "       [ -232.62552266,  -151.03722973],\n",
       "       [ -551.42585341,  -171.53378739],\n",
       "       [ -770.97022443,   -68.40681696],\n",
       "       [ -623.48772513,  -371.41540556],\n",
       "       [ -983.32529277,   262.41028018],\n",
       "       [ -260.2478262 ,   -46.83221196],\n",
       "       [ 1218.75239766,   -23.36626178],\n",
       "       [  837.7491987 ,   710.90095838]])"
      ]
     },
     "execution_count": 46,
     "metadata": {},
     "output_type": "execute_result"
    }
   ],
   "source": [
    "#the top left r × r block , r =2\n",
    "sort1 = eigval.argsort()[-1]\n",
    "sort2 = eigval.argsort()[-2]\n",
    "v1 = eigval[sort1]\n",
    "v2 = eigval[sort2]\n",
    "vec1 = eigvec[:,sort1]\n",
    "vec2 = eigvec[:,sort2]\n",
    "diag = np.array([np.sqrt(v1),0,0,np.sqrt(v2)]).reshape(2,2)\n",
    "eigvec_r = np.concatenate((vec1,vec2)).reshape(2,10)\n",
    "V_T = np.dot(diag,eigvec_r)\n",
    "V = np.transpose(V_T)\n",
    "V"
   ]
  },
  {
   "cell_type": "markdown",
   "metadata": {},
   "source": [
    "So the V matrix is showed as above. The 2D map of the means of each categories is showed as following and we can find animals are closest to each other."
   ]
  },
  {
   "cell_type": "markdown",
   "metadata": {},
   "source": [
    "![](p2.png)"
   ]
  },
  {
   "cell_type": "markdown",
   "metadata": {},
   "source": [
    "#### (c)\n",
    "Here is another measure of the similarity of two classes. For class A and class B, define $E(A \\rightarrow B)$ to be the average error obtained by representing all the images of class A using the mean of class A and the first 20 principal components of class B. Now define the similarity between classes to be $(1/2)(E(A \\rightarrow B)+E(B \\rightarrow A))$. Use principal coordinate analysis to make a 2D map of the classes. Compare this map to the map in the previous exercise are they different? why?"
   ]
  },
  {
   "cell_type": "markdown",
   "metadata": {},
   "source": [
    "##### Answer:"
   ]
  },
  {
   "cell_type": "code",
   "execution_count": 47,
   "metadata": {
    "collapsed": false
   },
   "outputs": [],
   "source": [
    "#############4.10(c)##################################################\n",
    "\n",
    "#create E matrix E(i->j) = E_ij\n",
    "E = []\n",
    "for i in range(10):\n",
    "    for j in range(10):\n",
    "        pca_i = PCA(copy=True,n_components=20) #pca para\n",
    "        data_i = pca_i.fit_transform(class_data[i]['data']) #transform 10000*3072 to 10000*20\n",
    "        pca_j = PCA(copy=True,n_components=20) #pca para\n",
    "        data_j = pca_j.fit_transform(class_data[j]['data']) #transform 10000*3072 to 10000*20\n",
    "        pca_i.components_ = pca_j.components_\n",
    "        represent_data_i = pca_i.inverse_transform(data_i)\n",
    "        total_dis = 0\n",
    "        for image in range(5000):\n",
    "            dist = np.sqrt(np.sum(np.square(represent_data_i[image] - class_data[i]['data'][image])))\n",
    "            total_dis = total_dis + dist\n",
    "        ave_err = total_dis/5000\n",
    "        E.append(ave_err)\n",
    "E = np.array(E).reshape(10,10)"
   ]
  },
  {
   "cell_type": "code",
   "execution_count": 50,
   "metadata": {
    "collapsed": false
   },
   "outputs": [
    {
     "data": {
      "text/plain": [
       "array([  4.45296395e+03,  -5.21294287e-14,   2.32013646e+03,\n",
       "         2.13174202e+03,   1.33214552e+03,   1.76585256e+03,\n",
       "         1.71689619e+03,   1.66518607e+03,   1.51750220e+03,\n",
       "         1.50097262e+03])"
      ]
     },
     "execution_count": 50,
     "metadata": {},
     "output_type": "execute_result"
    }
   ],
   "source": [
    "D2 = []\n",
    "for i in range(10):\n",
    "    for j in range(10):\n",
    "        similarity = 0.5 * (E[i][j] + E[j][i])\n",
    "        if i == j:\n",
    "            similarity = 0\n",
    "        D2.append(similarity)\n",
    "D2 = np.array(D2).reshape(10,10)\n",
    "#Form A,W and get the eigenvectors andeigenvalues of W\n",
    "I2 = np.identity(10)\n",
    "A2 = I - 0.1 * np.array([1]*100).reshape(10,10)\n",
    "W2 = -0.5 * np.dot(np.dot(A2,D2),np.transpose(A2))\n",
    "eigval2, eigvec2 = np.linalg.eig(W2)\n",
    "eigval2"
   ]
  },
  {
   "cell_type": "code",
   "execution_count": 52,
   "metadata": {
    "collapsed": false
   },
   "outputs": [
    {
     "data": {
      "text/plain": [
       "array([[-34.57853091,   1.99507091],\n",
       "       [ 14.71842113,   3.20967007],\n",
       "       [ 18.02949507, -12.5108948 ],\n",
       "       [ 18.18452665, -34.06332469],\n",
       "       [  8.86315487,  10.89242857],\n",
       "       [ 11.19577093,  23.25709231],\n",
       "       [ 14.14462948,  10.25836624],\n",
       "       [ 10.53515097,   7.14165155],\n",
       "       [-31.92521855,   2.70195853],\n",
       "       [-29.16739964, -12.88201869]])"
      ]
     },
     "execution_count": 52,
     "metadata": {},
     "output_type": "execute_result"
    }
   ],
   "source": [
    "# the top left r × r block , r =2\n",
    "sort_c1 = eigval2.argsort()[-1]\n",
    "sort_c2 = eigval2.argsort()[-2]\n",
    "v_c1 = eigval2[sort_c1]\n",
    "v_c2 = eigval2[sort_c2]\n",
    "vec_c1 = eigvec2[:,sort_c1]\n",
    "vec_c2 = eigvec2[:,sort_c2]\n",
    "diag2 = np.array([np.sqrt(v_c1),0,0,np.sqrt(v_c2)]).reshape(2,2)\n",
    "eigvec_r2 = np.concatenate((vec_c1,vec_c2)).reshape(2,10)\n",
    "#compute V\n",
    "V_T2 = np.dot(diag2,eigvec_r2)\n",
    "V2 = np.transpose(V_T2)\n",
    "V2"
   ]
  },
  {
   "cell_type": "markdown",
   "metadata": {},
   "source": [
    "So the V matrix for another measure of the similarity of two classes is showed as above. The 2D map of the means of each categories is showed as following."
   ]
  },
  {
   "cell_type": "markdown",
   "metadata": {},
   "source": [
    "![](p3.png)"
   ]
  }
 ],
 "metadata": {
  "kernelspec": {
   "display_name": "Python 2",
   "language": "python",
   "name": "python2"
  },
  "language_info": {
   "codemirror_mode": {
    "name": "ipython",
    "version": 2
   },
   "file_extension": ".py",
   "mimetype": "text/x-python",
   "name": "python",
   "nbconvert_exporter": "python",
   "pygments_lexer": "ipython2",
   "version": "2.7.13"
  }
 },
 "nbformat": 4,
 "nbformat_minor": 2
}
